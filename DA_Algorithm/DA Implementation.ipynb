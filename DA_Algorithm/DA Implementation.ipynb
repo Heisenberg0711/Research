{
 "cells": [
  {
   "cell_type": "code",
   "execution_count": 1,
   "metadata": {},
   "outputs": [],
   "source": [
    "import numpy as np\n",
    "import matplotlib.pyplot as plt\n",
    "import pandas as pd\n",
    "\n",
    "class DAneal:\n",
    "    def __init__(self, k, Beta, BetaMax, alpha):\n",
    "        self.k = k\n",
    "        self.Beta = Beta\n",
    "        self.BetaMax = BetaMax\n",
    "        self.alpha = alpha\n",
    "\n",
    "    def Anneal(self, data):\n",
    "        #step 1\n",
    "        self.data = data\n",
    "        x = data[:,0]\n",
    "        y = data[:,1]\n",
    "        N = x.shape[0];\n",
    "        print(N)\n",
    "        print(type(x))\n",
    "     \n",
    "\n",
    "        \n",
    "        \n"
   ]
  },
  {
   "cell_type": "code",
   "execution_count": 2,
   "metadata": {},
   "outputs": [
    {
     "name": "stdout",
     "output_type": "stream",
     "text": [
      "87\n",
      "<class 'numpy.ndarray'>\n"
     ]
    }
   ],
   "source": [
    "def main():\n",
    "    #Import the data set\n",
    "    rawData = pd.read_csv(\"ipl.csv\") #This will return a data frame\n",
    "    rawData = rawData[['one', 'two']]\n",
    "    data = rawData.values\n",
    "    \n",
    "    #Create the object and pass the data in\n",
    "    DA = DAneal(3, 0.001, 1, 1.1)\n",
    "    DA.Anneal(data)\n",
    "    \n",
    "\n",
    "    \n",
    "    \n",
    "    \n",
    "if __name__ == \"__main__\":\n",
    "    main()"
   ]
  },
  {
   "cell_type": "code",
   "execution_count": null,
   "metadata": {},
   "outputs": [],
   "source": []
  }
 ],
 "metadata": {
  "kernelspec": {
   "display_name": "Python 3",
   "language": "python",
   "name": "python3"
  },
  "language_info": {
   "codemirror_mode": {
    "name": "ipython",
    "version": 3
   },
   "file_extension": ".py",
   "mimetype": "text/x-python",
   "name": "python",
   "nbconvert_exporter": "python",
   "pygments_lexer": "ipython3",
   "version": "3.6.5"
  }
 },
 "nbformat": 4,
 "nbformat_minor": 2
}
